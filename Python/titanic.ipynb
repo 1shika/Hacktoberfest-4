from google.colab import files
uploaded = files.upload()

import pandas as pd
import numpy as np
import seaborn as sns
import matplotlib.pyplot as plt
%matplotlib inline
import math
from sklearn import datasets
import io
from sklearn.linear_model import LogisticRegression
from sklearn.model_selection import train_test_split
from sklearn.metrics import classification_report
from sklearn.metrics import confusion_matrix
from sklearn.metrics import accuracy_score


titanic_data = pd.read_csv(io.BytesIO(uploaded['titanic.csv']))
print(titanic_data)

titanic_data.head(5)

print("NO OF PASSNGERS ARE : " +str(len(titanic_data.index)))

sns.countplot(x = "Survived", data = titanic_data)

sns.countplot(x = "Survived",hue = "Sex",data = titanic_data)

sns.countplot(x = "Survived", hue = "Pclass",data = titanic_data)

titanic_data["Age"].plot.hist()

titanic_data["Fare"].plot.hist(bins = 30, figsize = (10,5))

titanic_data.info()

titanic_data.isnull()

titanic_data.isnull().sum()

sns.heatmap(titanic_data.isnull())

gender = pd.get_dummies(titanic_data["Sex"],drop_first = True)

gender.head(10)

print(titanic_data)

final_data = titanic_data.drop(['Name','Sex','Pclass'],axis=1,inplace=True)

print(final_data)

titanic_data.head(10)

X = titanic_data.drop(["Survived"],axis=1)
y = titanic_data["Survived"]
X_train,X_test,y_train,y_test = train_test_split(X,y,test_size=0.2,random_state=20)

logmodel = LogisticRegression()

logmodel.fit(X_train,y_train)

predictions = logmodel.predict(X_test)

classification_report(y_test,predictions)

confusion_matrix(y_test,predictions)

accuracy_score(y_test,predictions)
